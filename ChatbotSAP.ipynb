{
  "cells": [
    {
      "cell_type": "markdown",
      "metadata": {
        "id": "iy-VQCY0yaLg"
      },
      "source": [
        "## Data Scraping"
      ]
    },
    {
      "cell_type": "code",
      "execution_count": null,
      "metadata": {
        "id": "exzS0wQRyaLj"
      },
      "outputs": [],
      "source": [
        "%pip install selenium==4.10.0\n",
        "%pip install pandas\n",
        "%pip install webdriver-manager"
      ]
    },
    {
      "cell_type": "code",
      "execution_count": null,
      "metadata": {
        "id": "PmiDl7HWyaLl"
      },
      "outputs": [],
      "source": [
        "from selenium import webdriver\n",
        "from selenium.webdriver.chrome.service import Service\n",
        "from selenium.webdriver.common.keys import Keys\n",
        "from selenium.webdriver.support import expected_conditions as EC\n",
        "from selenium.webdriver.common.by import By\n",
        "from selenium.webdriver.support.wait import WebDriverWait\n",
        "from urllib.request import Request, urlopen\n",
        "from webdriver_manager.chrome import ChromeDriverManager\n",
        "from bs4 import BeautifulSoup\n",
        "import pandas as pd\n",
        "import warnings\n",
        "import json\n",
        "import time\n",
        "import os"
      ]
    },
    {
      "cell_type": "code",
      "execution_count": null,
      "metadata": {
        "id": "BENtvMGdyaLl"
      },
      "outputs": [],
      "source": [
        "def driversetup():\n",
        "    service = Service(executable_path=ChromeDriverManager().install())\n",
        "    options = webdriver.ChromeOptions()\n",
        "    options.add_argument('--headless')\n",
        "    options.add_argument(\"lang=en\")\n",
        "    options.add_argument(\"start-maximized\")\n",
        "    options.add_argument(\"disable-infobars\")\n",
        "    options.add_argument(\"--disable-extensions\")\n",
        "    options.add_argument(\"--incognito\")\n",
        "    options.add_argument(\"--disable-blink-features=AutomationControlled\")\n",
        "    driver = webdriver.Chrome(service=service, options=options)\n",
        "    driver.execute_script(\"Object.defineProperty(navigator, 'webdriver', {get: () => undefined});\")\n",
        "    return driver\n",
        "\n",
        "def pagesource(url, driver):\n",
        "    driver = driver\n",
        "    driver.get(url)\n",
        "    soup = BeautifulSoup(driver.page_source)\n",
        "    questions = [x.get(\"href\") for x in soup.findAll('a') if str(x.get(\"href\")).startswith('/questions/')][1:]\n",
        "    return questions"
      ]
    },
    {
      "cell_type": "code",
      "execution_count": null,
      "metadata": {
        "id": "SKrxaM4TyaLm"
      },
      "outputs": [],
      "source": [
        "tags = [\n",
        "    \"99724818299614502762190973596969\",\n",
        "    \"416658401661843526040169665289086\",\n",
        "    \"876619786935845126962162607976597\",\n",
        "    \"773921536755532122004239005965168\",\n",
        "    \"250948378054223096392454848767354\",\n",
        "    \"182542228769759641292999239253882\",\n",
        "    \"859834545111167391953063734572784\",\n",
        "    \"212358834767912649313917434384826\",\n",
        "    \"410250962940517507034023885688755\",\n",
        "    \"443595830163800786360189759964915\",\n",
        "    \"188663251671469173336120566262897\",\n",
        "    \"132949817163443344955330185779754\",\n",
        "    \"bd524d9b-1ee4-452d-a5b4-c25520976179\",\n",
        "    \"0c9ec02c-46fe-498e-a301-66c5a13461e9\",\n",
        "    \"01200615320800000636\"\n",
        "]"
      ]
    },
    {
      "cell_type": "code",
      "execution_count": null,
      "metadata": {
        "id": "D5yh5L3pyaLn"
      },
      "outputs": [],
      "source": [
        "driver = driversetup()\n",
        "questions = []\n",
        "for tag in tags:\n",
        "    print(\"tag:\", tag)\n",
        "    for i in range(1, 130):\n",
        "        print(\"page:\", i)\n",
        "        try:\n",
        "            url = f\"https://answers.sap.com/tags/{tag}?page={i}&pageSize=15&sort=active&filter=accepted\"\n",
        "            print(url)\n",
        "            source = pagesource(url, driver)\n",
        "            if len(source) == 0: break\n",
        "            else: questions.extend(pagesource(url, driver))\n",
        "        except: print(f\"Error at link {url}\")"
      ]
    },
    {
      "cell_type": "code",
      "execution_count": null,
      "metadata": {
        "id": "lysS8j6ayaLo"
      },
      "outputs": [],
      "source": [
        "base = \"https://answers.sap.com\"\n",
        "data = []\n",
        "for i, page in enumerate(questions):\n",
        "    url = base + page\n",
        "    driver.get(url)\n",
        "    soup = BeautifulSoup(driver.page_source)\n",
        "    row = {}\n",
        "    row['id'] = page.split('/')[2]\n",
        "    row['url'] = url\n",
        "    row['title'] = soup.findAll(\"h1\", {\"class\": \"ds-question__title\"})[0].text\n",
        "    row['question'] = soup.findAll(\"div\", {\"class\": \"ds-question__content\"})[0].text\n",
        "    row['answer'] = soup.findAll(\"div\", {\"class\": \"ds-answer__content\"})[0].text\n",
        "\n",
        "    data.append(row)\n",
        "    if i % 200 == 0: print(len(data))"
      ]
    },
    {
      "cell_type": "code",
      "execution_count": null,
      "metadata": {
        "id": "V1V98mPeyaLo"
      },
      "outputs": [],
      "source": []
    },
    {
      "cell_type": "markdown",
      "metadata": {
        "id": "6SYqX0DxyaLp"
      },
      "source": [
        "# question input"
      ]
    },
    {
      "cell_type": "code",
      "execution_count": null,
      "metadata": {
        "id": "qbKA3sKEyaLp"
      },
      "outputs": [],
      "source": [
        "question = input(\"Enter your question: \")"
      ]
    },
    {
      "cell_type": "markdown",
      "metadata": {
        "id": "6fg7euo_yaLq"
      },
      "source": [
        "# Keyword Extraction"
      ]
    },
    {
      "cell_type": "code",
      "execution_count": null,
      "metadata": {
        "id": "y2t2NjkdyaLq",
        "outputId": "af8eab03-3186-4cf6-bb15-033c380d97b5"
      },
      "outputs": [
        {
          "name": "stdout",
          "output_type": "stream",
          "text": [
            "Collecting rake-nltk\n",
            "  Downloading rake_nltk-1.0.6-py3-none-any.whl (9.1 kB)\n",
            "Collecting nltk<4.0.0,>=3.6.2 (from rake-nltk)\n",
            "  Using cached nltk-3.8.1-py3-none-any.whl (1.5 MB)\n",
            "Requirement already satisfied: click in c:\\users\\romex\\.conda\\envs\\chatbot\\lib\\site-packages (from nltk<4.0.0,>=3.6.2->rake-nltk) (8.1.3)\n",
            "Requirement already satisfied: joblib in c:\\users\\romex\\.conda\\envs\\chatbot\\lib\\site-packages (from nltk<4.0.0,>=3.6.2->rake-nltk) (1.3.1)\n",
            "Requirement already satisfied: regex>=2021.8.3 in c:\\users\\romex\\.conda\\envs\\chatbot\\lib\\site-packages (from nltk<4.0.0,>=3.6.2->rake-nltk) (2023.6.3)\n",
            "Requirement already satisfied: tqdm in c:\\users\\romex\\.conda\\envs\\chatbot\\lib\\site-packages (from nltk<4.0.0,>=3.6.2->rake-nltk) (4.65.0)\n",
            "Requirement already satisfied: colorama in c:\\users\\romex\\.conda\\envs\\chatbot\\lib\\site-packages (from click->nltk<4.0.0,>=3.6.2->rake-nltk) (0.4.6)\n",
            "Installing collected packages: nltk, rake-nltk\n",
            "Successfully installed nltk-3.8.1 rake-nltk-1.0.6\n",
            "Note: you may need to restart the kernel to use updated packages.\n"
          ]
        }
      ],
      "source": [
        "%pip install rake-nltk"
      ]
    },
    {
      "cell_type": "code",
      "execution_count": null,
      "metadata": {
        "id": "-7qXsmCEyaLr",
        "outputId": "b2ae0739-3202-4f74-98f4-429aa7ea555f"
      },
      "outputs": [
        {
          "name": "stderr",
          "output_type": "stream",
          "text": [
            "[nltk_data] Downloading package stopwords to\n",
            "[nltk_data]     C:\\Users\\Romex\\AppData\\Roaming\\nltk_data...\n",
            "[nltk_data]   Package stopwords is already up-to-date!\n",
            "[nltk_data] Downloading package punkt to\n",
            "[nltk_data]     C:\\Users\\Romex\\AppData\\Roaming\\nltk_data...\n",
            "[nltk_data]   Package punkt is already up-to-date!\n"
          ]
        },
        {
          "data": {
            "text/plain": [
              "True"
            ]
          },
          "execution_count": 24,
          "metadata": {},
          "output_type": "execute_result"
        }
      ],
      "source": [
        "from rake_nltk import Rake\n",
        "import nltk\n",
        "import pandas as pd\n",
        "\n",
        "nltk.download('stopwords')\n",
        "nltk.download('punkt')"
      ]
    },
    {
      "cell_type": "code",
      "execution_count": null,
      "metadata": {
        "id": "qzuYdzlCyaLs",
        "outputId": "ac152def-0475-452f-cf78-8f94179e8081"
      },
      "outputs": [
        {
          "data": {
            "text/html": [
              "<div>\n",
              "<style scoped>\n",
              "    .dataframe tbody tr th:only-of-type {\n",
              "        vertical-align: middle;\n",
              "    }\n",
              "\n",
              "    .dataframe tbody tr th {\n",
              "        vertical-align: top;\n",
              "    }\n",
              "\n",
              "    .dataframe thead th {\n",
              "        text-align: right;\n",
              "    }\n",
              "</style>\n",
              "<table border=\"1\" class=\"dataframe\">\n",
              "  <thead>\n",
              "    <tr style=\"text-align: right;\">\n",
              "      <th></th>\n",
              "      <th>keywords</th>\n",
              "      <th>word embeddings</th>\n",
              "      <th>cosine similarity</th>\n",
              "    </tr>\n",
              "  </thead>\n",
              "  <tbody>\n",
              "  </tbody>\n",
              "</table>\n",
              "</div>"
            ],
            "text/plain": [
              "Empty DataFrame\n",
              "Columns: [keywords, word embeddings, cosine similarity]\n",
              "Index: []"
            ]
          },
          "metadata": {},
          "output_type": "display_data"
        },
        {
          "name": "stdout",
          "output_type": "stream",
          "text": [
            "quick brown fox jumps\n"
          ]
        }
      ],
      "source": [
        "# Text to extract keywords from\n",
        "text = \"The quick brown fox jumps over the lazy dog. The dog barks loudly.\"\n",
        "\n",
        "columns = ['keywords', 'word embeddings' , 'cosine similarity']\n",
        "\n",
        "df = pd.DataFrame(columns=columns)\n",
        "\n",
        "display(df)\n",
        "\n",
        "# Create a Rake object\n",
        "r = Rake()\n",
        "\n",
        "# Extract keywords\n",
        "r.extract_keywords_from_text(text)\n",
        "\n",
        "# Get the ranked list of keywords\n",
        "keywords = r.get_ranked_phrases()[:1]  # Extract the top 3 keywords\n",
        "\n",
        "keywords_list = []\n",
        "\n",
        "# Print the keywords\n",
        "for keyword in keywords:\n",
        "    print(keyword)\n",
        "    df.loc[len(df)] = [keyword, 0,0]\n"
      ]
    },
    {
      "cell_type": "code",
      "execution_count": null,
      "metadata": {
        "id": "K42MTsJAyaLs",
        "outputId": "3ba72fd7-6c52-497e-a54a-c1c98592716f"
      },
      "outputs": [
        {
          "data": {
            "text/html": [
              "<div>\n",
              "<style scoped>\n",
              "    .dataframe tbody tr th:only-of-type {\n",
              "        vertical-align: middle;\n",
              "    }\n",
              "\n",
              "    .dataframe tbody tr th {\n",
              "        vertical-align: top;\n",
              "    }\n",
              "\n",
              "    .dataframe thead th {\n",
              "        text-align: right;\n",
              "    }\n",
              "</style>\n",
              "<table border=\"1\" class=\"dataframe\">\n",
              "  <thead>\n",
              "    <tr style=\"text-align: right;\">\n",
              "      <th></th>\n",
              "      <th>keywords</th>\n",
              "      <th>word embeddings</th>\n",
              "      <th>cosine similarity</th>\n",
              "    </tr>\n",
              "  </thead>\n",
              "  <tbody>\n",
              "    <tr>\n",
              "      <th>0</th>\n",
              "      <td>quick brown fox jumps</td>\n",
              "      <td>0</td>\n",
              "      <td>0</td>\n",
              "    </tr>\n",
              "  </tbody>\n",
              "</table>\n",
              "</div>"
            ],
            "text/plain": [
              "                keywords  word embeddings  cosine similarity\n",
              "0  quick brown fox jumps                0                  0"
            ]
          },
          "metadata": {},
          "output_type": "display_data"
        }
      ],
      "source": [
        "display(df)"
      ]
    },
    {
      "cell_type": "markdown",
      "metadata": {
        "id": "ugmLPw_0yaLs"
      },
      "source": [
        "# Word Embedding"
      ]
    },
    {
      "cell_type": "code",
      "execution_count": null,
      "metadata": {
        "id": "3yJL_3_ayaLs"
      },
      "outputs": [],
      "source": [
        "from sentence_transformers import SentenceTransformer\n",
        "model = SentenceTransformer('sentence-transformers/all-MiniLM-L6-v2')"
      ]
    },
    {
      "cell_type": "code",
      "execution_count": null,
      "metadata": {
        "id": "pB9jCjMiyaLt"
      },
      "outputs": [],
      "source": [
        "# embeddings = model.encode(sentences)\n",
        "question_emb = model.encode(question)\n",
        "embeddings = []\n",
        "for i in range(len(df)):\n",
        "    # print(model.encode(df.iloc[i, 0]))\n",
        "    df.iloc[i,1] = str(model.encode(df.iloc[i, 0]))\n",
        "    # print(embeddings)\n"
      ]
    },
    {
      "cell_type": "markdown",
      "metadata": {
        "id": "aNqQM_hyyaLt"
      },
      "source": [
        "# Cosine Similarity"
      ]
    },
    {
      "cell_type": "code",
      "execution_count": null,
      "metadata": {
        "id": "MQiGY1J9yaLt"
      },
      "outputs": [],
      "source": [
        "import numpy as np\n",
        "from numpy.linalg import norm"
      ]
    },
    {
      "cell_type": "code",
      "execution_count": null,
      "metadata": {
        "id": "8ubUSDLdyaLu"
      },
      "outputs": [],
      "source": [
        "for i in range\n",
        "cosine = np.dot(question_emb,B)/(norm(question_emb)*norm(B))\n",
        "print(\"Cosine Similarity:\", cosine)\n"
      ]
    }
  ],
  "metadata": {
    "kernelspec": {
      "display_name": "Python 3 (ipykernel)",
      "language": "python",
      "name": "python3"
    },
    "language_info": {
      "codemirror_mode": {
        "name": "ipython",
        "version": 3
      },
      "file_extension": ".py",
      "mimetype": "text/x-python",
      "name": "python",
      "nbconvert_exporter": "python",
      "pygments_lexer": "ipython3",
      "version": "3.10.11"
    },
    "colab": {
      "provenance": []
    }
  },
  "nbformat": 4,
  "nbformat_minor": 0
}