{
  "cells": [
    {
      "cell_type": "markdown",
      "source": [
        "**Data Scraping**\n"
      ],
      "metadata": {
        "id": "fHBJmx6zKcZG"
      },
      "id": "fHBJmx6zKcZG"
    },
    {
      "cell_type": "code",
      "execution_count": 1,
      "id": "164e22f8",
      "metadata": {
        "colab": {
          "base_uri": "https://localhost:8080/"
        },
        "id": "164e22f8",
        "outputId": "7bf6a984-fe00-4d31-9b72-4b89ca4f23da"
      },
      "outputs": [
        {
          "output_type": "stream",
          "name": "stdout",
          "text": [
            "Collecting selenium==4.10.0\n",
            "  Downloading selenium-4.10.0-py3-none-any.whl (6.7 MB)\n",
            "\u001b[2K     \u001b[90m━━━━━━━━━━━━━━━━━━━━━━━━━━━━━━━━━━━━━━━━\u001b[0m \u001b[32m6.7/6.7 MB\u001b[0m \u001b[31m35.5 MB/s\u001b[0m eta \u001b[36m0:00:00\u001b[0m\n",
            "\u001b[?25hRequirement already satisfied: urllib3[socks]<3,>=1.26 in /usr/local/lib/python3.10/dist-packages (from selenium==4.10.0) (2.0.7)\n",
            "Collecting trio~=0.17 (from selenium==4.10.0)\n",
            "  Downloading trio-0.24.0-py3-none-any.whl (460 kB)\n",
            "\u001b[2K     \u001b[90m━━━━━━━━━━━━━━━━━━━━━━━━━━━━━━━━━━━━━━━━\u001b[0m \u001b[32m460.2/460.2 kB\u001b[0m \u001b[31m26.4 MB/s\u001b[0m eta \u001b[36m0:00:00\u001b[0m\n",
            "\u001b[?25hCollecting trio-websocket~=0.9 (from selenium==4.10.0)\n",
            "  Downloading trio_websocket-0.11.1-py3-none-any.whl (17 kB)\n",
            "Requirement already satisfied: certifi>=2021.10.8 in /usr/local/lib/python3.10/dist-packages (from selenium==4.10.0) (2023.11.17)\n",
            "Requirement already satisfied: attrs>=20.1.0 in /usr/local/lib/python3.10/dist-packages (from trio~=0.17->selenium==4.10.0) (23.2.0)\n",
            "Requirement already satisfied: sortedcontainers in /usr/local/lib/python3.10/dist-packages (from trio~=0.17->selenium==4.10.0) (2.4.0)\n",
            "Requirement already satisfied: idna in /usr/local/lib/python3.10/dist-packages (from trio~=0.17->selenium==4.10.0) (3.6)\n",
            "Collecting outcome (from trio~=0.17->selenium==4.10.0)\n",
            "  Downloading outcome-1.3.0.post0-py2.py3-none-any.whl (10 kB)\n",
            "Requirement already satisfied: sniffio>=1.3.0 in /usr/local/lib/python3.10/dist-packages (from trio~=0.17->selenium==4.10.0) (1.3.0)\n",
            "Requirement already satisfied: exceptiongroup in /usr/local/lib/python3.10/dist-packages (from trio~=0.17->selenium==4.10.0) (1.2.0)\n",
            "Collecting wsproto>=0.14 (from trio-websocket~=0.9->selenium==4.10.0)\n",
            "  Downloading wsproto-1.2.0-py3-none-any.whl (24 kB)\n",
            "Requirement already satisfied: pysocks!=1.5.7,<2.0,>=1.5.6 in /usr/local/lib/python3.10/dist-packages (from urllib3[socks]<3,>=1.26->selenium==4.10.0) (1.7.1)\n",
            "Collecting h11<1,>=0.9.0 (from wsproto>=0.14->trio-websocket~=0.9->selenium==4.10.0)\n",
            "  Downloading h11-0.14.0-py3-none-any.whl (58 kB)\n",
            "\u001b[2K     \u001b[90m━━━━━━━━━━━━━━━━━━━━━━━━━━━━━━━━━━━━━━━━\u001b[0m \u001b[32m58.3/58.3 kB\u001b[0m \u001b[31m6.5 MB/s\u001b[0m eta \u001b[36m0:00:00\u001b[0m\n",
            "\u001b[?25hInstalling collected packages: outcome, h11, wsproto, trio, trio-websocket, selenium\n",
            "Successfully installed h11-0.14.0 outcome-1.3.0.post0 selenium-4.10.0 trio-0.24.0 trio-websocket-0.11.1 wsproto-1.2.0\n",
            "Requirement already satisfied: pandas in /usr/local/lib/python3.10/dist-packages (1.5.3)\n",
            "Requirement already satisfied: python-dateutil>=2.8.1 in /usr/local/lib/python3.10/dist-packages (from pandas) (2.8.2)\n",
            "Requirement already satisfied: pytz>=2020.1 in /usr/local/lib/python3.10/dist-packages (from pandas) (2023.3.post1)\n",
            "Requirement already satisfied: numpy>=1.21.0 in /usr/local/lib/python3.10/dist-packages (from pandas) (1.23.5)\n",
            "Requirement already satisfied: six>=1.5 in /usr/local/lib/python3.10/dist-packages (from python-dateutil>=2.8.1->pandas) (1.16.0)\n",
            "Collecting webdriver-manager\n",
            "  Downloading webdriver_manager-4.0.1-py2.py3-none-any.whl (27 kB)\n",
            "Requirement already satisfied: requests in /usr/local/lib/python3.10/dist-packages (from webdriver-manager) (2.31.0)\n",
            "Collecting python-dotenv (from webdriver-manager)\n",
            "  Downloading python_dotenv-1.0.1-py3-none-any.whl (19 kB)\n",
            "Requirement already satisfied: packaging in /usr/local/lib/python3.10/dist-packages (from webdriver-manager) (23.2)\n",
            "Requirement already satisfied: charset-normalizer<4,>=2 in /usr/local/lib/python3.10/dist-packages (from requests->webdriver-manager) (3.3.2)\n",
            "Requirement already satisfied: idna<4,>=2.5 in /usr/local/lib/python3.10/dist-packages (from requests->webdriver-manager) (3.6)\n",
            "Requirement already satisfied: urllib3<3,>=1.21.1 in /usr/local/lib/python3.10/dist-packages (from requests->webdriver-manager) (2.0.7)\n",
            "Requirement already satisfied: certifi>=2017.4.17 in /usr/local/lib/python3.10/dist-packages (from requests->webdriver-manager) (2023.11.17)\n",
            "Installing collected packages: python-dotenv, webdriver-manager\n",
            "Successfully installed python-dotenv-1.0.1 webdriver-manager-4.0.1\n"
          ]
        }
      ],
      "source": [
        "%pip install selenium==4.10.0\n",
        "%pip install pandas\n",
        "%pip install webdriver-manager"
      ]
    },
    {
      "cell_type": "code",
      "execution_count": 2,
      "id": "f7df8422",
      "metadata": {
        "id": "f7df8422"
      },
      "outputs": [],
      "source": [
        "from selenium import webdriver\n",
        "from selenium.webdriver.chrome.service import Service\n",
        "from selenium.webdriver.common.keys import Keys\n",
        "from selenium.webdriver.support import expected_conditions as EC\n",
        "from selenium.webdriver.common.by import By\n",
        "from selenium.webdriver.support.wait import WebDriverWait\n",
        "from urllib.request import Request, urlopen\n",
        "from webdriver_manager.chrome import ChromeDriverManager\n",
        "from bs4 import BeautifulSoup\n",
        "import pandas as pd\n",
        "import warnings\n",
        "import json\n",
        "import time\n",
        "import os\n",
        "import requests"
      ]
    },
    {
      "cell_type": "code",
      "execution_count": 3,
      "id": "54db6715",
      "metadata": {
        "id": "54db6715"
      },
      "outputs": [],
      "source": [
        "def driversetup():\n",
        "    service = Service(executable_path=ChromeDriverManager().install())\n",
        "    options = webdriver.ChromeOptions()\n",
        "    options.add_argument('--headless')\n",
        "    options.add_argument(\"lang=en\")\n",
        "    options.add_argument(\"start-maximized\")\n",
        "    options.add_argument(\"disable-infobars\")\n",
        "    options.add_argument(\"--disable-extensions\")\n",
        "    options.add_argument(\"--incognito\")\n",
        "    options.add_argument(\"--disable-blink-features=AutomationControlled\")\n",
        "    driver = webdriver.Chrome(service=service, options=options)\n",
        "    driver.execute_script(\"Object.defineProperty(navigator, 'webdriver', {get: () => undefined});\")\n",
        "    return driver\n",
        "\n",
        "def pagesource(url, driver):\n",
        "    driver = driver\n",
        "    driver.get(url)\n",
        "    soup = BeautifulSoup(driver.page_source)\n",
        "    questions = [x.get(\"href\") for x in soup.findAll('a') if str(x.get(\"href\")).startswith('/questions/')][1:]\n",
        "    return questions"
      ]
    },
    {
      "cell_type": "markdown",
      "source": [
        "**Questions from website**"
      ],
      "metadata": {
        "id": "T6FsKmNGKnDF"
      },
      "id": "T6FsKmNGKnDF"
    },
    {
      "cell_type": "code",
      "execution_count": 4,
      "id": "51048708",
      "metadata": {
        "colab": {
          "base_uri": "https://localhost:8080/"
        },
        "id": "51048708",
        "outputId": "3bb1d351-7c71-4dd1-afa4-614229f7e3cf"
      },
      "outputs": [
        {
          "output_type": "stream",
          "name": "stdout",
          "text": [
            "tag: 99724818299614502762190973596969\n",
            "tag: 416658401661843526040169665289086\n",
            "tag: 876619786935845126962162607976597\n",
            "tag: 773921536755532122004239005965168\n",
            "tag: 250948378054223096392454848767354\n",
            "tag: 182542228769759641292999239253882\n",
            "tag: 859834545111167391953063734572784\n",
            "tag: 212358834767912649313917434384826\n",
            "tag: 410250962940517507034023885688755\n",
            "tag: 443595830163800786360189759964915\n",
            "tag: 188663251671469173336120566262897\n",
            "tag: 132949817163443344955330185779754\n",
            "tag: bd524d9b-1ee4-452d-a5b4-c25520976179\n",
            "tag: 0c9ec02c-46fe-498e-a301-66c5a13461e9\n",
            "tag: 01200615320800000636\n"
          ]
        }
      ],
      "source": [
        "tags = [\n",
        "    \"99724818299614502762190973596969\",\n",
        "    \"416658401661843526040169665289086\",\n",
        "    \"876619786935845126962162607976597\",\n",
        "    \"773921536755532122004239005965168\",\n",
        "    \"250948378054223096392454848767354\",\n",
        "    \"182542228769759641292999239253882\",\n",
        "    \"859834545111167391953063734572784\",\n",
        "    \"212358834767912649313917434384826\",\n",
        "    \"410250962940517507034023885688755\",\n",
        "    \"443595830163800786360189759964915\",\n",
        "    \"188663251671469173336120566262897\",\n",
        "    \"132949817163443344955330185779754\",\n",
        "    \"bd524d9b-1ee4-452d-a5b4-c25520976179\",\n",
        "    \"0c9ec02c-46fe-498e-a301-66c5a13461e9\",\n",
        "    \"01200615320800000636\"\n",
        "]\n",
        "\n",
        "questions = []\n",
        "for tag in tags:\n",
        "    print(\"tag:\", tag)\n",
        "    for i in range(1, 130):\n",
        "            url = f\"https://answers.sap.com/tags/{tag}?page={i}&pageSize=15&sort=active&filter=accepted\"\n",
        "            response = requests.get(url)\n",
        "            # Parse the HTML content\n",
        "            soup = BeautifulSoup(response.content, \"html.parser\")\n",
        "            question = soup.select(\"li.dm-contentListItem a[href^='/questions/']\")\n",
        "            if len(question) == 0: break\n",
        "            else:\n",
        "                questions.extend(question)\n"
      ]
    },
    {
      "cell_type": "code",
      "execution_count": null,
      "id": "0cc686f8",
      "metadata": {
        "id": "0cc686f8",
        "outputId": "e757c36e-23dd-423d-eeab-7bafd83a2092"
      },
      "outputs": [
        {
          "data": {
            "text/plain": [
              "2744"
            ]
          },
          "execution_count": 10,
          "metadata": {},
          "output_type": "execute_result"
        }
      ],
      "source": [
        "len(questions)"
      ]
    },
    {
      "cell_type": "markdown",
      "source": [
        "***Question answering with top 5  similar questions ***"
      ],
      "metadata": {
        "id": "U4CL946nKvre"
      },
      "id": "U4CL946nKvre"
    },
    {
      "cell_type": "code",
      "execution_count": null,
      "id": "1b9d2a73",
      "metadata": {
        "id": "1b9d2a73",
        "outputId": "38e496cd-c10f-4771-e35e-6f984488c090"
      },
      "outputs": [
        {
          "name": "stdout",
          "output_type": "stream",
          "text": [
            "What is your question what does SAP solution manager\n",
            "[[0.65697292]]  the question :  https://answers.sap.com/questions/13814355/sap-solution-manager-13.html\n",
            "[[0.65697292]]  the question :  https://answers.sap.com/questions/13121875/sap-solution-manager-72-1.html\n",
            "[[0.65697292]]  the question :  https://answers.sap.com/questions/12974853/sap-solution-manager-9.html\n",
            "[[0.51014902]]  the question :  https://answers.sap.com/questions/13005930/sap-solution-manager-mai.html\n",
            "[[0.51014902]]  the question :  https://answers.sap.com/questions/13716231/sap-solution-manager-purpose.html\n"
          ]
        }
      ],
      "source": [
        "from sklearn.feature_extraction.text import TfidfVectorizer\n",
        "from sklearn.metrics.pairwise import cosine_similarity\n",
        "\n",
        "question = input(\"What is your question \")\n",
        "cosinesim=[]\n",
        "for quest in questions:\n",
        "  # Create the TF-IDF vectorizer\n",
        "  vectorizer = TfidfVectorizer()\n",
        "\n",
        "  # Fit and transform the data\n",
        "  tfidf_matrix = vectorizer.fit_transform([question, quest.text.strip()])\n",
        "  # Calculate cosine similarity\n",
        "  similarity = cosine_similarity(tfidf_matrix[0], tfidf_matrix[1])\n",
        "  cosinesim.append((similarity, \"https://answers.sap.com\"+quest[\"href\"]))\n",
        "\n",
        "\n",
        "sorted_data = sorted(cosinesim, key=lambda x: x[0], reverse=True)\n",
        "\n",
        "for i in range(5) :\n",
        "  print(sorted_data[i][0],\" the question : \",sorted_data[i][1])"
      ]
    },
    {
      "cell_type": "code",
      "execution_count": null,
      "id": "a551dab8",
      "metadata": {
        "id": "a551dab8"
      },
      "outputs": [],
      "source": []
    }
  ],
  "metadata": {
    "kernelspec": {
      "display_name": "Python 3 (ipykernel)",
      "language": "python",
      "name": "python3"
    },
    "language_info": {
      "codemirror_mode": {
        "name": "ipython",
        "version": 3
      },
      "file_extension": ".py",
      "mimetype": "text/x-python",
      "name": "python",
      "nbconvert_exporter": "python",
      "pygments_lexer": "ipython3",
      "version": "3.10.9"
    },
    "colab": {
      "provenance": []
    }
  },
  "nbformat": 4,
  "nbformat_minor": 5
}